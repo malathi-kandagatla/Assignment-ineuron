{
 "cells": [
  {
   "cell_type": "markdown",
   "metadata": {},
   "source": [
    "1. Write a program which accepts a sequence of comma-separated numbers from console  and generate a list. "
   ]
  },
  {
   "cell_type": "code",
   "execution_count": 9,
   "metadata": {},
   "outputs": [
    {
     "name": "stdout",
     "output_type": "stream",
     "text": [
      "Provide some comma separated numbers: 23,45,67,89\n",
      "The List of numbers are:  ['23', '45', '67', '89']\n"
     ]
    }
   ],
   "source": [
    "#program to accept numbers from console and generate a list\n",
    "#taking the input of numbers\n",
    "numbers = input(\"Provide some comma separated numbers: \")\n",
    "\n",
    "#using split() to separate the numbers using comma\n",
    "numbers_list = numbers.split(\",\")\n",
    "\n",
    "#printing the output of list\n",
    "print('The List of numbers are: ',numbers_list)"
   ]
  },
  {
   "cell_type": "markdown",
   "metadata": {},
   "source": [
    "2. Create the below pattern using nested for loop in Python. \n",
    "* \n",
    "* * \n",
    "* * * \n",
    "* * * * \n",
    "* * * * * \n",
    "* * * * \n",
    "* * * \n",
    "* * \n",
    "* "
   ]
  },
  {
   "cell_type": "code",
   "execution_count": 13,
   "metadata": {},
   "outputs": [
    {
     "name": "stdout",
     "output_type": "stream",
     "text": [
      "\n",
      "*\n",
      "**\n",
      "***\n",
      "****\n",
      "*****\n",
      "****\n",
      "***\n",
      "**\n",
      "*\n"
     ]
    }
   ],
   "source": [
    "#program to print the above given pattern\n",
    "#initialize n with 5\n",
    "n=5;\n",
    "#using nested for loop for i and j to print * in ascending order\n",
    "for i in range(n): \n",
    "    for j in range(i):\n",
    "        print ('*', end=\"\")\n",
    "    print('')\n",
    "\n",
    "##using nested for loop for i and j to print * in descending order\n",
    "for i in range(n,0,-1):\n",
    "    for j in range(i):\n",
    "        print('*', end=\"\")\n",
    "    print('')"
   ]
  },
  {
   "cell_type": "markdown",
   "metadata": {},
   "source": [
    "3. Write a Python program to reverse a word after accepting the input from the user."
   ]
  },
  {
   "cell_type": "code",
   "execution_count": 1,
   "metadata": {},
   "outputs": [
    {
     "name": "stdout",
     "output_type": "stream",
     "text": [
      "The string to be reversed: ineuron\n",
      "\n",
      "The original string  is :  ineuron\n",
      "\n",
      "The reversed string is :  norueni\n"
     ]
    }
   ],
   "source": [
    "#program to print the reverse of a word, after accepting from the user\n",
    "#define a function for reverse\n",
    "\n",
    "def reverse(s): \n",
    "  str = \"\" \n",
    "  for i in s: \n",
    "    str = i + str\n",
    "  return str\n",
    "  \n",
    "s = input(\"The string to be reversed: \")\n",
    "  \n",
    "print (\"\\nThe original string  is : \",s) \n",
    "  \n",
    "print (\"\\nThe reversed string is : \",reverse(s))"
   ]
  },
  {
   "cell_type": "code",
   "execution_count": null,
   "metadata": {},
   "outputs": [],
   "source": []
  }
 ],
 "metadata": {
  "kernelspec": {
   "display_name": "Python 3",
   "language": "python",
   "name": "python3"
  },
  "language_info": {
   "codemirror_mode": {
    "name": "ipython",
    "version": 3
   },
   "file_extension": ".py",
   "mimetype": "text/x-python",
   "name": "python",
   "nbconvert_exporter": "python",
   "pygments_lexer": "ipython3",
   "version": "3.8.5"
  }
 },
 "nbformat": 4,
 "nbformat_minor": 4
}
