{
 "cells": [
  {
   "cell_type": "markdown",
   "metadata": {},
   "source": [
    "1.1. Write a Python Program(with class concepts) to find the area of the triangle using the below  formula. \n",
    "area = (s*(s-a)*(s-b)*(s-c)) ** 0.5 \n"
   ]
  },
  {
   "cell_type": "code",
   "execution_count": 1,
   "metadata": {},
   "outputs": [
    {
     "name": "stdout",
     "output_type": "stream",
     "text": [
      "a = 2\n",
      "b = 3\n",
      "c = 4\n",
      "area of triangle is  2.9047375096555625\n"
     ]
    }
   ],
   "source": [
    "class sides:\n",
    "    def __init__(self,a,b,c):\n",
    "        self.a=a\n",
    "        self.b=b\n",
    "        self.c=c\n",
    "        \n",
    "class triangle(sides):\n",
    "    def area(self):\n",
    "        s=(self.a+self.b+self.c)*0.5\n",
    "        return float((s * (s - self.a) * (s - self.b) * (s - self.c))) ** 0.5\n",
    "\n",
    "a, b, c = float(input(\"a = \")), float(input(\"b = \")), float(input(\"c = \"))\n",
    "t=triangle(a,b,c)\n",
    "print('area of triangle is ', t.area())"
   ]
  },
  {
   "cell_type": "code",
   "execution_count": 2,
   "metadata": {},
   "outputs": [
    {
     "name": "stdout",
     "output_type": "stream",
     "text": [
      "['quick', 'brown', 'jumps', 'over', 'lazy']\n"
     ]
    }
   ],
   "source": [
    "# 1.2. function filter_long_words() that takes a list of words and an integer n and returns  \n",
    "#the list of words that are longer than n\n",
    "def long_words(n, str):\n",
    "    word_len = []\n",
    "    txt = str.split(\" \")\n",
    "    for x in txt:\n",
    "        if len(x) > n:\n",
    "            word_len.append(x)\n",
    "    return word_len\t\n",
    "print(long_words(3, \"The quick brown fox jumps over the lazy dog\"))"
   ]
  },
  {
   "cell_type": "code",
   "execution_count": 3,
   "metadata": {},
   "outputs": [
    {
     "name": "stdout",
     "output_type": "stream",
     "text": [
      "Note: The words should be comma(,) separated\n",
      "Input: Enter the words :ab,cde,erty\n",
      "output: length of words: [2, 3, 4]\n"
     ]
    }
   ],
   "source": [
    "\"\"\"2.1. Python program using function concept that maps list of words into a list of integers\n",
    "representing the lengths of the corresponding words.Hint: If a list [ ab,cde,erty]\n",
    "is passed on to the python function output should come as [2,3,4] Here 2,3 and 4 \n",
    "are the lengths of the words in the list\"\"\"\n",
    "\n",
    "# defining function 'Words_to_Length' for maps list of words to list of integers\n",
    "# The function 'map(len, List)'maps the words with their length\n",
    "def Words_to_Length(List):\n",
    "    return list(map(len, List))\n",
    "\n",
    "print(\"Note: The words should be comma(,) separated\")\n",
    "word_List=list(input(\"Input: Enter the words :\").split(\",\"))\n",
    "    \n",
    "List=[x.strip() for x in word_List]\n",
    "\n",
    "#The function Execution\n",
    "Words_lengths=Words_to_Length(List)\n",
    "\n",
    "print(\"output: length of words:\", Words_lengths)\n",
    "        \n",
    "    \n"
   ]
  },
  {
   "cell_type": "code",
   "execution_count": 4,
   "metadata": {},
   "outputs": [
    {
     "name": "stdout",
     "output_type": "stream",
     "text": [
      "Enter character to check that it is Vowel or not\n",
      "Input Value: e\n",
      "Output Value:  True\n"
     ]
    }
   ],
   "source": [
    "\"\"\"2.2. Write a Python function which takes a character (i.e. a string of length\n",
    "1) and returns True if  it is a vowel, False otherwise\"\"\"\n",
    "\n",
    "#function for vowel checking and vowel list\n",
    "\n",
    "def vowel_check(inputChar):\n",
    "    return_value=''\n",
    "    if(len(inputChar)==1):\n",
    "        vowel_list=['a','e','i','o','u']\n",
    "        if(inputChar.lower() in vowel_list):\n",
    "            return_value=True\n",
    "        else:\n",
    "            return_value=False\n",
    "    else:\n",
    "        return_value=\"please enter single character only!\"\n",
    "    return return_value\n",
    "\n",
    "#Accepting the character from the user\n",
    "print(\"Enter character to check that it is Vowel or not\")\n",
    "input_value = input(\"Input Value: \")\n",
    "\n",
    "#calling the function to check whether accepted character is vowel or not\n",
    "output_value=vowel_check(input_value)\n",
    "\n",
    "#printing the output: True - if vowel & False - if consonant\n",
    "print(\"Output Value: \", output_value)"
   ]
  },
  {
   "cell_type": "code",
   "execution_count": null,
   "metadata": {},
   "outputs": [],
   "source": []
  }
 ],
 "metadata": {
  "kernelspec": {
   "display_name": "Python 3",
   "language": "python",
   "name": "python3"
  },
  "language_info": {
   "codemirror_mode": {
    "name": "ipython",
    "version": 3
   },
   "file_extension": ".py",
   "mimetype": "text/x-python",
   "name": "python",
   "nbconvert_exporter": "python",
   "pygments_lexer": "ipython3",
   "version": "3.8.5"
  }
 },
 "nbformat": 4,
 "nbformat_minor": 4
}
