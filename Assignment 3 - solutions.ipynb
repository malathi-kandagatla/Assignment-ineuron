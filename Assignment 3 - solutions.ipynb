{
 "cells": [
  {
   "cell_type": "markdown",
   "metadata": {},
   "source": [
    "1.1. Write a Python Program to implement your own myreduce() function which works exactly  like Python's built-in function reduce()"
   ]
  },
  {
   "cell_type": "code",
   "execution_count": 29,
   "metadata": {},
   "outputs": [
    {
     "name": "stdout",
     "output_type": "stream",
     "text": [
      "Providing input:\n",
      "\n",
      "Input the number for finding product upto that number:4\n",
      "\n",
      "The first 4 natural numbers are: [1, 2, 3, 4]\n",
      "\n",
      "The Ouput is:\n",
      "Product of 4 Natural numbers are : 24\n"
     ]
    }
   ],
   "source": [
    "#program to implement myreduce() function which works exactly like Python's built-in function reduce()\n",
    "#Multiplying n Natural numbers. n is accepted from the user\n",
    "#This functionm will return product of n Natural numbers'''\n",
    "\n",
    "def myreduce(prod):\n",
    "   \n",
    "    input_list=list(range(1,num+1))\n",
    "    product=1\n",
    "    \n",
    "    for i in input_list:\n",
    "        product=i*product\n",
    "        \n",
    "    return input_list,product #myreduce(prod) returns two values\n",
    "\n",
    "\n",
    "#Accepting the input from the user\n",
    "print(\"Providing input:\\n\")\n",
    "\n",
    "num=int(input(\"Input the number for finding product upto that number:\"))\n",
    "\n",
    "#calling the myreduce function\n",
    "final_product=myreduce(num)\n",
    "\n",
    "print(\"\\nThe first\", num , \"natural numbers are:\", final_product[0])\n",
    "\n",
    "#printing the output ie return values\n",
    "print(\"\\nThe Ouput is:\")\n",
    "\n",
    "print(\"Product of\",num, \"Natural numbers are :\",final_product[1])"
   ]
  },
  {
   "cell_type": "code",
   "execution_count": 132,
   "metadata": {},
   "outputs": [
    {
     "name": "stdout",
     "output_type": "stream",
     "text": [
      "Providing input:\n",
      "\n",
      "Input the number for finding product upto that number:4\n",
      "\n",
      "The first 4 natural numbers are: [1, 2, 3, 4]\n",
      "\n",
      "The Ouput is:\n",
      "Product of 4 Natural numbers are : 24\n"
     ]
    }
   ],
   "source": [
    "# The above program using built-in function reduce()\n",
    "    \n",
    "#Accepting the input from the user\n",
    "print(\"Providing input:\\n\")\n",
    "\n",
    "num=int(input(\"Input the number for finding product upto that number:\"))\n",
    "\n",
    "input_list=list(range(1,num+1))\n",
    "\n",
    "#import built-in function reduce()\n",
    "from functools import reduce\n",
    "\n",
    "final_product=reduce((lambda x, y: x * y), input_list)\n",
    "\n",
    "print(\"\\nThe first\", num , \"natural numbers are:\", input_list)\n",
    "\n",
    "#printing the output ie return values\n",
    "print(\"\\nThe Ouput is:\")\n",
    "\n",
    "print(\"Product of\", num , \"Natural numbers are :\",final_product)"
   ]
  },
  {
   "cell_type": "markdown",
   "metadata": {},
   "source": [
    "1.2. Write a Python program to implement your own myfilter() function which works exactly  like Python's built-in function filter() "
   ]
  },
  {
   "cell_type": "code",
   "execution_count": 134,
   "metadata": {},
   "outputs": [
    {
     "name": "stdout",
     "output_type": "stream",
     "text": [
      "Enter the list items : 12  14 20 22 34 45 65 24 10\n",
      "\n",
      "The following are the eligible voters:\n",
      "person with age 20 is a valid one\n",
      "person with age 22 is a valid one\n",
      "person with age 34 is a valid one\n",
      "person with age 45 is a valid one\n",
      "person with age 65 is a valid one\n",
      "person with age 24 is a valid one\n"
     ]
    }
   ],
   "source": [
    "# program to find the eligible voters (ie >18 years of age) using myfilter()\n",
    "#myfilter() works exactly like Python's built-in function filter()\n",
    " \n",
    "valid_voters = [] #an empty list\n",
    "\n",
    "# defining myfilter() to test if entered age is above 18 or not\n",
    "\n",
    "def myfilter(i):\n",
    "    for age in i:\n",
    "        if age >= 18 :\n",
    "            valid_voters.append(age)\n",
    "\n",
    "#Accepting the age of persons using list \n",
    "\n",
    "i = [int(item) for item in input(\"Enter the list items : \").split()]\n",
    "\n",
    "# Calling myfilter() function\n",
    "\n",
    "myfilter(i)\n",
    "\n",
    "# Printing results\n",
    "print(\"\\nThe following are the eligible voters:\")\n",
    "for voter in valid_voters:\n",
    "    print(\"person with age\",voter,\"is a valid one\")"
   ]
  },
  {
   "cell_type": "code",
   "execution_count": 66,
   "metadata": {},
   "outputs": [
    {
     "name": "stdout",
     "output_type": "stream",
     "text": [
      "Enter the list items : 12  14 20 22 34 45 65 24 10\n",
      "\n",
      "The following are the eligible voters:\n",
      "person with age 20 is a valid one\n",
      "person with age 22 is a valid one\n",
      "person with age 34 is a valid one\n",
      "person with age 45 is a valid one\n",
      "person with age 65 is a valid one\n",
      "person with age 24 is a valid one\n"
     ]
    }
   ],
   "source": [
    "# program to find the eligible voters (ie >18 years of age) using filter()\n",
    "\n",
    "# as the syntax for filter is : filter(function, iterable)\n",
    "\n",
    "# 1st parameter : function to check if age > 18 or not\n",
    "\n",
    "def eligibility(age):\n",
    "    if age >= 18:\n",
    "        return True\n",
    "    else:\n",
    "        return False\n",
    "\n",
    "# 2nd parameter : List of voters age accepted from the user\n",
    "\n",
    "all_voters = [int(item) for item in input(\"Enter the list items : \").split()] \n",
    "\n",
    "eligible_voters =filter(eligibility , all_voters)\n",
    "\n",
    "print(\"\\nThe following are the eligible voters:\")\n",
    "\n",
    "for voter in eligible_voters:\n",
    "    print(\"person with age\",voter,\"is a valid one\")"
   ]
  },
  {
   "cell_type": "markdown",
   "metadata": {},
   "source": [
    "Implement List comprehensions to produce the following lists.  \n",
    "Write List comprehensions to produce the following Lists \n",
    "\n",
    "['A', 'C', 'A', 'D', 'G', 'I', ’L’, ‘ D’] \n",
    "\n",
    "['x', 'xx', 'xxx', 'xxxx', 'y', 'yy', 'yyy', 'yyyy', 'z', 'zz', 'zzz', 'zzzz']  \n",
    "\n",
    "['x', 'y', 'z', 'xx', 'yy', 'zz', 'xxx', 'yyy', 'zzz', 'xxxx', 'yyyy', 'zzzz']  \n",
    "\n",
    "[[2], [3], [4], [3], [4], [5], [4], [5], [6]] \n",
    "\n",
    "[[2, 3, 4, 5], [3, 4, 5, 6],  [4, 5, 6, 7], [5, 6, 7, 8]] \n"
   ]
  },
  {
   "cell_type": "code",
   "execution_count": 67,
   "metadata": {},
   "outputs": [
    {
     "name": "stdout",
     "output_type": "stream",
     "text": [
      "['A', 'C', 'A', 'D', 'G', 'I', 'L', 'D']\n"
     ]
    }
   ],
   "source": [
    "#['A', 'C', 'A', 'D', 'G', 'I', ’L’, ‘ D’]\n",
    "\n",
    "h_letters = [ letter for letter in 'ACADGILD' ]\n",
    "print( h_letters)"
   ]
  },
  {
   "cell_type": "code",
   "execution_count": 70,
   "metadata": {},
   "outputs": [
    {
     "name": "stdout",
     "output_type": "stream",
     "text": [
      "['x', 'xx', 'xxx', 'xxxx', 'y', 'yy', 'yyy', 'yyyy', 'z', 'zz', 'zzz', 'zzzz']\n"
     ]
    }
   ],
   "source": [
    "#['x', 'xx', 'xxx', 'xxxx', 'y', 'yy', 'yyy', 'yyyy', 'z', 'zz', 'zzz', 'zzzz']\n",
    "#usinsg list comprehension\n",
    "\n",
    "input_list = ['x','y','z']\n",
    "result = [ item*num for item in input_list for num in range(1,5)  ]\n",
    "print(result)"
   ]
  },
  {
   "cell_type": "code",
   "execution_count": 131,
   "metadata": {},
   "outputs": [
    {
     "name": "stdout",
     "output_type": "stream",
     "text": [
      "x\n",
      "xx\n",
      "xxx\n",
      "xxxx\n",
      "y\n",
      "yy\n",
      "yyy\n",
      "yyyy\n",
      "z\n",
      "zz\n",
      "zzz\n",
      "zzzz\n"
     ]
    }
   ],
   "source": [
    "#without using list comprehension\n",
    "\n",
    "input_list = ['x','y','z']\n",
    "num = list(range(1,5))\n",
    "for item in input_list:\n",
    "        for i in num:\n",
    "            item*i  \n",
    "            print(str(item*i))\n",
    "   "
   ]
  },
  {
   "cell_type": "code",
   "execution_count": 106,
   "metadata": {},
   "outputs": [
    {
     "name": "stdout",
     "output_type": "stream",
     "text": [
      "['x', 'y', 'z', 'xx', 'yy', 'zz', 'xxx', 'yyy', 'zzz', 'xxxx', 'yyyy', 'zzzz']\n"
     ]
    }
   ],
   "source": [
    "['x', 'y', 'z', 'xx', 'yy', 'zz', 'xxx', 'yyy', 'zzz', 'xxxx', 'yyyy', 'zzzz']\n",
    "#using list comprehension\n",
    "\n",
    "input_list = ['x','y','z']\n",
    "result = [ item*num for num in range(1,5) for item in input_list  ]\n",
    "print(result)"
   ]
  },
  {
   "cell_type": "code",
   "execution_count": 107,
   "metadata": {},
   "outputs": [
    {
     "name": "stdout",
     "output_type": "stream",
     "text": [
      "x\n",
      "y\n",
      "z\n",
      "xx\n",
      "yy\n",
      "zz\n",
      "xxx\n",
      "yyy\n",
      "zzz\n",
      "xxxx\n",
      "yyyy\n",
      "zzzz\n"
     ]
    }
   ],
   "source": [
    "#without using list comprehension\n",
    "\n",
    "input_list = ['x','y','z']\n",
    "num = list(range(1,5))\n",
    "for i in num:\n",
    "    for item in input_list:\n",
    "            item*i  \n",
    "            print(str(item*i))"
   ]
  },
  {
   "cell_type": "code",
   "execution_count": 109,
   "metadata": {},
   "outputs": [
    {
     "name": "stdout",
     "output_type": "stream",
     "text": [
      "[[2], [3], [4], [3], [4], [5], [4], [5], [6]]\n"
     ]
    }
   ],
   "source": [
    "#[[2], [3], [4], [3], [4], [5], [4], [5], [6]]\n",
    "#using list comprehension\n",
    "\n",
    "input_list = [2,3,4]\n",
    "result = [ [item+num] for item in input_list for num in range(0,3)]\n",
    "print(result)"
   ]
  },
  {
   "cell_type": "code",
   "execution_count": 126,
   "metadata": {},
   "outputs": [
    {
     "name": "stdout",
     "output_type": "stream",
     "text": [
      "[2]\n",
      "[3]\n",
      "[4]\n",
      "[3]\n",
      "[4]\n",
      "[5]\n",
      "[4]\n",
      "[5]\n",
      "[6]\n"
     ]
    }
   ],
   "source": [
    "#without using list comprehension\n",
    "\n",
    "input_list = [2,3,4]\n",
    "num = range(0,3)\n",
    "for item in input_list:\n",
    "    for i in num:\n",
    "        result = [item+i]\n",
    "        print(list(result))\n",
    "        \n"
   ]
  },
  {
   "cell_type": "code",
   "execution_count": 129,
   "metadata": {},
   "outputs": [
    {
     "name": "stdout",
     "output_type": "stream",
     "text": [
      "[[2, 3, 4, 5], [3, 4, 5, 6], [4, 5, 6, 7], [5, 6, 7, 8]]\n"
     ]
    }
   ],
   "source": [
    "#[[2, 3, 4, 5], [3, 4, 5, 6], [4, 5, 6, 7], [5, 6, 7, 8]]\n",
    "#using list comprehension\n",
    "\n",
    "input_list = [2,3,4,5]\n",
    "result = [ [item+num for item in input_list] for num in range(0,4)  ]\n",
    "print(result)"
   ]
  },
  {
   "cell_type": "code",
   "execution_count": null,
   "metadata": {},
   "outputs": [],
   "source": []
  }
 ],
 "metadata": {
  "kernelspec": {
   "display_name": "Python 3",
   "language": "python",
   "name": "python3"
  },
  "language_info": {
   "codemirror_mode": {
    "name": "ipython",
    "version": 3
   },
   "file_extension": ".py",
   "mimetype": "text/x-python",
   "name": "python",
   "nbconvert_exporter": "python",
   "pygments_lexer": "ipython3",
   "version": "3.8.5"
  }
 },
 "nbformat": 4,
 "nbformat_minor": 4
}
